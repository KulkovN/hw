{
 "cells": [
  {
   "cell_type": "code",
   "execution_count": null,
   "id": "2e2aca2e",
   "metadata": {},
   "outputs": [],
   "source": [
    "from pathlib import Path\n",
    "from pyspark.sql import SparkSession\n",
    "from pyspark.sql import functions as F\n",
    "from pyspark.sql.functions import *\n",
    "from pyspark.sql.types import *\n",
    "from pyspark.sql import Window as W\n",
    "\n",
    "# init SparkSession\n",
    "ss = SparkSession.builder.appName(\"SparkByExamples\").getOrCreate()"
   ]
  },
  {
   "cell_type": "code",
   "execution_count": 15,
   "id": "ef43522a-45e3-424d-93d5-6346a5056d35",
   "metadata": {},
   "outputs": [
    {
     "name": "stderr",
     "output_type": "stream",
     "text": [
      "                                                                                \r"
     ]
    }
   ],
   "source": [
    "df = ss.read.option(\"header\", True).option(\"delimiter\", \",\") \\\n",
    ".format(\"csv\").load(\"./owid-covid-data.csv\")"
   ]
  },
  {
   "cell_type": "markdown",
   "id": "07dc639f-91a4-42ff-80d5-3d13b8439cf0",
   "metadata": {},
   "source": [
    "Задание:\n",
    "\n",
    "Выберите 15 стран с наибольшим процентом переболевших на 31 марта (в выходящем датасете необходимы колонки: iso_code, страна, процент переболевших)\n",
    "\n",
    "Top 10 стран с максимальным зафиксированным кол-вом новых случаев за последнюю неделю марта 2021 в отсортированном порядке по убыванию (в выходящем датасете необходимы колонки: число, страна, кол-во новых случаев)\n",
    "\n",
    "Посчитайте изменение случаев относительно предыдущего дня в России за последнюю неделю марта 2021. (например: в россии вчера было 9150 , сегодня 8763, итог: -387) (в выходящем датасете необходимы колонки: число, кол-во новых случаев вчера, кол-во новых случаев сегодня, дельта)"
   ]
  },
  {
   "cell_type": "code",
   "execution_count": 6,
   "id": "8a9894cf-165e-434a-9094-da1f5ec4d3fc",
   "metadata": {},
   "outputs": [],
   "source": [
    "# Описание атрибутов\n",
    "# https://github.com/owid/covid-19-data/blob/master/public/data/README.md"
   ]
  },
  {
   "cell_type": "code",
   "execution_count": 17,
   "id": "18982c35-cd11-47ed-8617-2cd797e8a5f2",
   "metadata": {},
   "outputs": [
    {
     "name": "stdout",
     "output_type": "stream",
     "text": [
      "+--------+-------------+-------------+\n",
      "|iso_code|location     |pers_infected|\n",
      "+--------+-------------+-------------+\n",
      "|AND     |Andorra      |15.544       |\n",
      "|MNE     |Montenegro   |14.524       |\n",
      "|CZE     |Czechia      |14.309       |\n",
      "|SMR     |San Marino   |13.937       |\n",
      "|SVN     |Slovenia     |10.371       |\n",
      "|LUX     |Luxembourg   |9.847        |\n",
      "|ISR     |Israel       |9.625        |\n",
      "|USA     |United States|9.203        |\n",
      "|SRB     |Serbia       |8.826        |\n",
      "|BHR     |Bahrain      |8.489        |\n",
      "|PAN     |Panama       |8.229        |\n",
      "|PRT     |Portugal     |8.059        |\n",
      "|EST     |Estonia      |8.023        |\n",
      "|SWE     |Sweden       |7.97         |\n",
      "|LTU     |Lithuania    |7.939        |\n",
      "+--------+-------------+-------------+\n",
      "only showing top 15 rows\n",
      "\n"
     ]
    }
   ],
   "source": [
    "# exec_1\n",
    "\n",
    "# Выберите 15 стран с наибольшим процентом \n",
    "# переболевших на 31 марта (в выходящем датасете необходимы колонки: \n",
    "# iso_code, страна, процент переболевших)\n",
    "\n",
    "df \\\n",
    ".filter(F.col(\"date\") == \"2021-03-31\") \\\n",
    ".select('iso_code', 'location',\n",
    "       F.lit(\n",
    "           F.round((F.col('total_cases') / F.col('population') * 100), 3) \n",
    "       ).alias(\"pers_infected\")) \\\n",
    ".orderBy(F.col(\"pers_infected\").desc()) \\\n",
    ".show(15, False)\n",
    "\n",
    "# # 'population', 'total_cases', 'date',"
   ]
  },
  {
   "cell_type": "code",
   "execution_count": 22,
   "id": "4b547d42-bbf2-4f28-b705-6345f116d2eb",
   "metadata": {},
   "outputs": [
    {
     "name": "stdout",
     "output_type": "stream",
     "text": [
      "+----------+-------------+-------------+\n",
      "|date      |location     |max_new_cases|\n",
      "+----------+-------------+-------------+\n",
      "|2021-03-25|Brazil       |100158.0     |\n",
      "|2021-03-24|United States|86960.0      |\n",
      "|2021-03-28|India        |68020.0      |\n",
      "|2021-03-24|France       |65392.0      |\n",
      "|2021-03-26|Poland       |35145.0      |\n",
      "|2021-03-27|Turkey       |30021.0      |\n",
      "|2021-03-22|Italy        |24501.0      |\n",
      "|2021-03-24|Germany      |23757.0      |\n",
      "|2021-03-25|Peru         |19206.0      |\n",
      "|2021-03-26|Ukraine      |18226.0      |\n",
      "+----------+-------------+-------------+\n",
      "only showing top 10 rows\n",
      "\n"
     ]
    }
   ],
   "source": [
    "# exec_2\n",
    "\n",
    "# Top 10 стран с максимальным зафиксированным \n",
    "# кол-вом новых случаев за последнюю неделю марта 2021 в \n",
    "# отсортированном порядке по убыванию\n",
    "# (в выходящем датасете необходимы колонки: число, \n",
    "#  страна, кол-во новых случаев)\n",
    "\n",
    "\n",
    "# судя по комментариям к задаче нужно: \n",
    "# а) разбить через окно по условиям \"location\", \"date\" \n",
    "#    для подсчета внутри страны за конкретную дату\n",
    "# б) Найти максимальное кол-во новых случаев для каждой страны в периоде\n",
    "# в) Вывести только максимальное кол-во для каждой страны в формате :\n",
    "#    |date      |location     |max_new_cases|\n",
    "\n",
    "\n",
    "# подготовка ДатаФрейма для работы (для возможности использовать SQL)\n",
    "df.createOrReplaceTempView(\"table_1\")\n",
    "# тянем нужные атрибуты из всего отношения\n",
    "new_df = ss.sql(\n",
    "\"\"\"SELECT location, date , new_cases\n",
    "FROM table_1 \n",
    "WHERE date BETWEEN '2021-03-22' AND '2021-03-28'\n",
    "\"\"\")\n",
    "\n",
    "# Задаем правила группировки\n",
    "windowSpecAgg = W.partitionBy(\"location\", \"date\")\n",
    "windowSpecAgg_2 = W.partitionBy(\"location\") \n",
    "\n",
    "# ищем топ 10 стран\n",
    "pre_result = new_df \\\n",
    ".withColumn(\"sum_new_cases\", F.sum(F.col(\"new_cases\")).over(windowSpecAgg)) \\\n",
    ".withColumn(\"max_new_cases\", F.max(F.col(\"sum_new_cases\")).over(windowSpecAgg_2)) \\\n",
    ".select(\"date\", \"location\", \"max_new_cases\") \\\n",
    ".orderBy(F.col(\"max_new_cases\").desc()) \\\n",
    ".filter(F.col(\"max_new_cases\") == F.col(\"sum_new_cases\"))\n",
    "# .show(10, False)\n",
    "\n",
    "# Исключаем статистику по континентам и полит-блокам\n",
    "# т.о. получаем результирующий набор\n",
    "pre_result \\\n",
    ".filter(~F.col(\"location\") \\\n",
    "        .rlike(\"Africa|Asia|World|Europe|European\\ Union|South America|North America\")) \\\n",
    ".show(10, False)"
   ]
  },
  {
   "cell_type": "code",
   "execution_count": 43,
   "id": "1829837a-34f2-4e69-8105-1a012212dd9f",
   "metadata": {},
   "outputs": [
    {
     "name": "stdout",
     "output_type": "stream",
     "text": [
      "+----------+---------------+-----------+-----+\n",
      "|date_d    |yesterday_cases|today_cases|delta|\n",
      "+----------+---------------+-----------+-----+\n",
      "|2021-03-21|null           |9215       |null |\n",
      "|2021-03-22|9215           |9195       |-20  |\n",
      "|2021-03-23|9195           |8369       |-826 |\n",
      "|2021-03-24|8369           |8769       |400  |\n",
      "|2021-03-25|8769           |9128       |359  |\n",
      "|2021-03-26|9128           |9073       |-55  |\n",
      "|2021-03-27|9073           |8783       |-290 |\n",
      "|2021-03-28|8783           |8979       |196  |\n",
      "+----------+---------------+-----------+-----+\n",
      "\n"
     ]
    }
   ],
   "source": [
    "# exec_3\n",
    "\n",
    "# Посчитайте изменение случаев относительно предыдущего дня в\n",
    "# России за последнюю неделю марта 2021. (например: в России вчера \n",
    "# было 9150 , сегодня 8763, итог: -387) (в выходящем датасете необходимы колонки: \n",
    "# число, кол-во новых случаев вчера, кол-во новых случаев сегодня, дельта)\n",
    "\n",
    "# Подготовка новой фактуру по измененным условиям\n",
    "\n",
    "# добавл один день для вывода дельты за всю неделю\n",
    "\n",
    "df_for_exec_3 = ss.read.options(header=True, delimiter=\",\") \\\n",
    ".format(\"csv\").load(\"./owid-covid-data.csv\") \\\n",
    ".withColumn(\"date_d\", F.to_date(F.col(\"date\"))) \\\n",
    ".filter(\n",
    "    (F.col(\"date_d\").between(\"2021-03-21\", \"2021-03-28\") & \\\n",
    "     (F.col(\"location\") == \"Russia\"))) \\\n",
    ".select(\"location\", \"date_d\" , \"new_cases\") \\\n",
    ".orderBy(\"date_d\")\n",
    "\n",
    "\"\"\"Правка в атрибуте дельты (параметры расчета - поменял местам) \"\"\"\n",
    "\n",
    "windowSpec  = W.partitionBy(\"location\").orderBy(\"date_d\")\n",
    "\n",
    "df_for_exec_3 \\\n",
    ".withColumn(\"lag\", F.lag(\"new_cases\", 1).over(windowSpec)) \\\n",
    ".withColumn(\"qwe\", F.col(\"lag\").cast(IntegerType())) \\\n",
    ".withColumn(\"rty\", F.col(\"new_cases\").cast(IntegerType())) \\\n",
    ".select(\"date_d\",\n",
    "        F.col(\"qwe\").alias(\"yesterday_cases\"),\n",
    "        F.col(\"rty\").alias(\"today_cases\"),\n",
    "        F.lit(F.col(\"rty\") - F.col(\"qwe\")).alias(\"delta\")) \\\n",
    ".show(10, False)"
   ]
  },
  {
   "cell_type": "code",
   "execution_count": null,
   "id": "6f1ad672-b44e-4347-877b-f005318239e2",
   "metadata": {},
   "outputs": [],
   "source": [
    "ss.stop()"
   ]
  }
 ],
 "metadata": {
  "kernelspec": {
   "display_name": "jupyter_env_py3.9 spark3",
   "language": "python",
   "name": "jupyter_env_py3.9-spark3"
  },
  "language_info": {
   "codemirror_mode": {
    "name": "ipython",
    "version": 3
   },
   "file_extension": ".py",
   "mimetype": "text/x-python",
   "name": "python",
   "nbconvert_exporter": "python",
   "pygments_lexer": "ipython3",
   "version": "3.9.13"
  }
 },
 "nbformat": 4,
 "nbformat_minor": 5
}
