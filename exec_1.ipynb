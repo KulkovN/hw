{
 "cells": [
  {
   "cell_type": "code",
   "execution_count": 49,
   "id": "proprietary-sunglasses",
   "metadata": {},
   "outputs": [],
   "source": [
    "from pathlib import Path\n",
    "from pyspark.sql.types import *\n",
    "from pyspark.sql import functions as F\n",
    "\n",
    "from pyspark.sql import Window as W\n",
    "\n",
    "# init SparkSession\n",
    "ss = SparkSession.builder.appName(\"SparkByExamples\").getOrCreate()\n",
    "\n",
    "df = ss.read.option(\"header\", True).option(\"delimiter\", \",\") \\\n",
    ".format(\"csv\").load(\"./my_tmp/owid-covid-data.csv\")"
   ]
  },
  {
   "cell_type": "markdown",
   "id": "false-breakfast",
   "metadata": {},
   "source": [
    "Задание:\n",
    "\n",
    "Выберите 15 стран с наибольшим процентом переболевших на 31 марта (в выходящем датасете необходимы колонки: iso_code, страна, процент переболевших)\n",
    "\n",
    "Top 10 стран с максимальным зафиксированным кол-вом новых случаев за последнюю неделю марта 2021 в отсортированном порядке по убыванию\n",
    "(в выходящем датасете необходимы колонки: число, страна, кол-во новых случаев)\n",
    "\n",
    "Посчитайте изменение случаев относительно предыдущего дня в России за последнюю неделю марта 2021. (например: в россии вчера было 9150 , сегодня 8763, итог: -387) (в выходящем датасете необходимы колонки: число, кол-во новых случаев вчера, кол-во новых случаев сегодня, дельта)"
   ]
  },
  {
   "cell_type": "code",
   "execution_count": null,
   "id": "czech-rogers",
   "metadata": {},
   "outputs": [],
   "source": [
    "# Описание атрибутов\n",
    "# https://github.com/owid/covid-19-data/blob/master/public/data/README.md"
   ]
  },
  {
   "cell_type": "code",
   "execution_count": 94,
   "id": "binary-shield",
   "metadata": {},
   "outputs": [
    {
     "name": "stdout",
     "output_type": "stream",
     "text": [
      "+--------+--------------+-------------+\n",
      "|iso_code|location      |pers_infected|\n",
      "+--------+--------------+-------------+\n",
      "|VAT     |Vatican       |0.742        |\n",
      "|SMR     |San Marino    |0.695        |\n",
      "|AND     |Andorra       |0.487        |\n",
      "|LUX     |Luxembourg    |0.348        |\n",
      "|ISL     |Iceland       |0.333        |\n",
      "|ESP     |Spain         |0.205        |\n",
      "|CHE     |Switzerland   |0.192        |\n",
      "|LIE     |Liechtenstein |0.178        |\n",
      "|ITA     |Italy         |0.175        |\n",
      "|MCO     |Monaco        |0.133        |\n",
      "|AUT     |Austria       |0.113        |\n",
      "|BEL     |Belgium       |0.11         |\n",
      "|OWID_EUN|European Union|0.089        |\n",
      "|DEU     |Germany       |0.086        |\n",
      "|NOR     |Norway        |0.086        |\n",
      "+--------+--------------+-------------+\n",
      "only showing top 15 rows\n",
      "\n"
     ]
    }
   ],
   "source": [
    "# exec_1\n",
    "\n",
    "# Выберите 15 стран с наибольшим процентом \n",
    "# переболевших на 31 марта (в выходящем датасете необходимы колонки: \n",
    "# iso_code, страна, процент переболевших)\n",
    "\n",
    "df \\\n",
    ".filter(F.col(\"date\") == \"2020-03-31\") \\\n",
    ".select('iso_code', 'location',\n",
    "       F.lit(\n",
    "           F.round((F.col('total_cases') / F.col('population') * 100), 3) \n",
    "       ).alias(\"pers_infected\")) \\\n",
    ".orderBy(F.col(\"pers_infected\").desc()) \\\n",
    ".show(15, False)\n",
    "\n",
    "# # 'population', 'total_cases', 'date',"
   ]
  },
  {
   "cell_type": "code",
   "execution_count": 187,
   "id": "unavailable-correlation",
   "metadata": {},
   "outputs": [
    {
     "name": "stdout",
     "output_type": "stream",
     "text": [
      "+----------+-------------+-------------+\n",
      "|date      |location     |max_new_cases|\n",
      "+----------+-------------+-------------+\n",
      "|2021-03-25|Brazil       |100158.0     |\n",
      "|2021-03-24|United States|86960.0      |\n",
      "|2021-03-28|India        |68020.0      |\n",
      "|2021-03-24|France       |65392.0      |\n",
      "|2021-03-26|Poland       |35145.0      |\n",
      "|2021-03-27|Turkey       |30021.0      |\n",
      "|2021-03-22|Italy        |24501.0      |\n",
      "|2021-03-24|Germany      |23757.0      |\n",
      "|2021-03-25|Peru         |19206.0      |\n",
      "|2021-03-26|Ukraine      |18226.0      |\n",
      "+----------+-------------+-------------+\n",
      "only showing top 10 rows\n",
      "\n"
     ]
    }
   ],
   "source": [
    "# exec_2\n",
    "\n",
    "# Top 10 стран с максимальным зафиксированным \n",
    "# кол-вом новых случаев за последнюю неделю марта 2021 в \n",
    "# отсортированном порядке по убыванию\n",
    "# (в выходящем датасете необходимы колонки: число, \n",
    "#  страна, кол-во новых случаев)\n",
    "\n",
    "\n",
    "# судя по комментариям к задаче нужно: \n",
    "# а) разбить через окно по условиям \"location\", \"date\" \n",
    "#    для подсчета внутри страны за конкретную дату\n",
    "# б) Найти максимальное кол-во новых случаев для каждой страны в периоде\n",
    "# в) Вывести только максимальное кол-во для каждой страны в формате :\n",
    "#    |date      |location     |max_new_cases|\n",
    "\n",
    "\n",
    "# подготовка ДатаФрейма для работы (для возможности использовать SQL)\n",
    "df.createOrReplaceTempView(\"table_1\")\n",
    "# тянем нужные атрибуты из всего отношения\n",
    "new_df = ss.sql(\n",
    "\"\"\"SELECT location, date , new_cases\n",
    "FROM table_1 \n",
    "WHERE date BETWEEN '2021-03-22' AND '2021-03-28'\n",
    "\"\"\")\n",
    "\n",
    "# Задаем правила группировки\n",
    "windowSpecAgg = W.partitionBy(\"location\", \"date\")\n",
    "windowSpecAgg_2 = W.partitionBy(\"location\") \n",
    "\n",
    "# ищем топ 10 стран\n",
    "pre_result = new_df \\\n",
    ".withColumn(\"sum_new_cases\", F.sum(F.col(\"new_cases\")).over(windowSpecAgg)) \\\n",
    ".withColumn(\"max_new_cases\", F.max(F.col(\"sum_new_cases\")).over(windowSpecAgg_2)) \\\n",
    ".select(\"date\", \"location\", \"max_new_cases\") \\\n",
    ".orderBy(F.col(\"max_new_cases\").desc()) \\\n",
    ".filter(F.col(\"max_new_cases\") == F.col(\"sum_new_cases\"))\n",
    "# .show(10, False)\n",
    "\n",
    "# Исключаем статистику по континентам и полит-блокам\n",
    "# т.о. получаем результирующий набор\n",
    "pre_result \\\n",
    ".filter(~F.col(\"location\") \\\n",
    "        .rlike(\"Africa|Asia|World|Europe|European\\ Union|South America|North America\")) \\\n",
    ".show(10, False)"
   ]
  },
  {
   "cell_type": "code",
   "execution_count": 225,
   "id": "standing-structure",
   "metadata": {},
   "outputs": [
    {
     "name": "stdout",
     "output_type": "stream",
     "text": [
      "+----------+---------------+-----------+-----+\n",
      "|date      |yesterday_cases|today_cases|delta|\n",
      "+----------+---------------+-----------+-----+\n",
      "|2021-03-22|null           |9195       |null |\n",
      "|2021-03-23|9195           |8369       |826  |\n",
      "|2021-03-24|8369           |8769       |-400 |\n",
      "|2021-03-25|8769           |9128       |-359 |\n",
      "|2021-03-26|9128           |9073       |55   |\n",
      "|2021-03-27|9073           |8783       |290  |\n",
      "|2021-03-28|8783           |8979       |-196 |\n",
      "+----------+---------------+-----------+-----+\n",
      "\n"
     ]
    }
   ],
   "source": [
    "# exec_3\n",
    "\n",
    "# Посчитайте изменение случаев относительно предыдущего дня в\n",
    "# России за последнюю неделю марта 2021. (например: в России вчера \n",
    "# было 9150 , сегодня 8763, итог: -387) (в выходящем датасете необходимы колонки: \n",
    "# число, кол-во новых случаев вчера, кол-во новых случаев сегодня, дельта)\n",
    "\n",
    "df_3 = new_df \\\n",
    ".filter(F.col(\"location\") == \"Russia\") \\\n",
    ".orderBy(F.col(\"date\"))\n",
    "\n",
    "windowSpec  = W.partitionBy(\"location\").orderBy(\"date\")\n",
    "\n",
    "df_3 \\\n",
    ".withColumn(\"lag\", F.lag(\"new_cases\", 1).over(windowSpec)) \\\n",
    ".withColumn(\"qwe\", F.col(\"lag\").cast(IntegerType())) \\\n",
    ".withColumn(\"rty\", F.col(\"new_cases\").cast(IntegerType())) \\\n",
    ".select(\"date\",\n",
    "        F.col(\"qwe\").alias(\"yesterday_cases\"),\n",
    "        F.col(\"rty\").alias(\"today_cases\"),\n",
    "        F.lit(F.col(\"qwe\") - F.col(\"rty\")).alias(\"delta\")) \\\n",
    ".show(10, False)"
   ]
  },
  {
   "cell_type": "code",
   "execution_count": 226,
   "id": "productive-electron",
   "metadata": {},
   "outputs": [],
   "source": [
    "ss.stop()"
   ]
  }
 ],
 "metadata": {
  "kernelspec": {
   "display_name": "python36-spark-conda",
   "language": "python",
   "name": "python36-spark-conda"
  },
  "language_info": {
   "codemirror_mode": {
    "name": "ipython",
    "version": 3
   },
   "file_extension": ".py",
   "mimetype": "text/x-python",
   "name": "python",
   "nbconvert_exporter": "python",
   "pygments_lexer": "ipython3",
   "version": "3.6.12"
  }
 },
 "nbformat": 4,
 "nbformat_minor": 5
}
